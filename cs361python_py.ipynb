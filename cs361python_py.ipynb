{
  "nbformat": 4,
  "nbformat_minor": 0,
  "metadata": {
    "colab": {
      "name": "cs361python.py",
      "version": "0.3.2",
      "provenance": [],
      "include_colab_link": true
    },
    "kernelspec": {
      "name": "python3",
      "display_name": "Python 3"
    }
  },
  "cells": [
    {
      "cell_type": "markdown",
      "metadata": {
        "id": "view-in-github",
        "colab_type": "text"
      },
      "source": [
        "<a href=\"https://colab.research.google.com/github/JustinScigs/CS-361-Python/blob/master/cs361python_py.ipynb\" target=\"_parent\"><img src=\"https://colab.research.google.com/assets/colab-badge.svg\" alt=\"Open In Colab\"/></a>"
      ]
    },
    {
      "metadata": {
        "id": "NPRwljCiaFw6",
        "colab_type": "code",
        "outputId": "817ead05-0ffa-4035-c9a3-a9c14b0274db",
        "colab": {
          "base_uri": "https://localhost:8080/",
          "height": 153
        }
      },
      "cell_type": "code",
      "source": [
        "for i in range(8):\n",
        "  print(\"Hi\")"
      ],
      "execution_count": 0,
      "outputs": [
        {
          "output_type": "stream",
          "text": [
            "Hi\n",
            "Hi\n",
            "Hi\n",
            "Hi\n",
            "Hi\n",
            "Hi\n",
            "Hi\n",
            "Hi\n"
          ],
          "name": "stdout"
        }
      ]
    },
    {
      "metadata": {
        "id": "H7SxvoBJgD9m",
        "colab_type": "code",
        "colab": {}
      },
      "cell_type": "code",
      "source": [
        "x = 6\n",
        "y = 5\n",
        "x,y = y,x"
      ],
      "execution_count": 0,
      "outputs": []
    },
    {
      "metadata": {
        "id": "B64Kbg7egOn7",
        "colab_type": "code",
        "outputId": "ccd38f59-dd0b-45f4-bf9b-5fe0e1aee83f",
        "colab": {
          "base_uri": "https://localhost:8080/",
          "height": 34
        }
      },
      "cell_type": "code",
      "source": [
        "x"
      ],
      "execution_count": 0,
      "outputs": [
        {
          "output_type": "execute_result",
          "data": {
            "text/plain": [
              "5"
            ]
          },
          "metadata": {
            "tags": []
          },
          "execution_count": 2
        }
      ]
    },
    {
      "metadata": {
        "id": "mdjxVV4-gPvz",
        "colab_type": "code",
        "outputId": "cc1b7c31-dbe4-48ec-c875-8751983a0108",
        "colab": {
          "base_uri": "https://localhost:8080/",
          "height": 34
        }
      },
      "cell_type": "code",
      "source": [
        "y"
      ],
      "execution_count": 0,
      "outputs": [
        {
          "output_type": "execute_result",
          "data": {
            "text/plain": [
              "6"
            ]
          },
          "metadata": {
            "tags": []
          },
          "execution_count": 3
        }
      ]
    },
    {
      "metadata": {
        "id": "fpZ5RuBygS9B",
        "colab_type": "code",
        "colab": {}
      },
      "cell_type": "code",
      "source": [
        "classes_per_Day = {\"Monday\":1,\"Tuesday\":2,\"Wednesday\":3}"
      ],
      "execution_count": 0,
      "outputs": []
    },
    {
      "metadata": {
        "id": "neCfKDrPhNah",
        "colab_type": "code",
        "outputId": "be608467-5d82-4306-9cf2-2f76505c4bb5",
        "colab": {
          "base_uri": "https://localhost:8080/",
          "height": 34
        }
      },
      "cell_type": "code",
      "source": [
        "classes_per_Day.keys()\n"
      ],
      "execution_count": 0,
      "outputs": [
        {
          "output_type": "execute_result",
          "data": {
            "text/plain": [
              "dict_keys(['Monday', 'Tuesday', 'Wednesday'])"
            ]
          },
          "metadata": {
            "tags": []
          },
          "execution_count": 21
        }
      ]
    },
    {
      "metadata": {
        "id": "T4QeTrr2h_5y",
        "colab_type": "code",
        "colab": {}
      },
      "cell_type": "code",
      "source": [
        "def getEven(x):\n",
        "  evens = []\n",
        "  for i in x:\n",
        "    if i % 2 == 0:\n",
        "      evens.append(i)"
      ],
      "execution_count": 0,
      "outputs": []
    },
    {
      "metadata": {
        "id": "Cg7J49Onk5dY",
        "colab_type": "code",
        "colab": {}
      },
      "cell_type": "code",
      "source": [
        "def evens_one_line(l):\n",
        "  return [x for x in l if x % 2 == 0]"
      ],
      "execution_count": 0,
      "outputs": []
    },
    {
      "metadata": {
        "id": "5dyFcEqnnZZJ",
        "colab_type": "code",
        "outputId": "f9ac3200-c160-4a05-9091-db3d8ee21fad",
        "colab": {
          "base_uri": "https://localhost:8080/",
          "height": 34
        }
      },
      "cell_type": "code",
      "source": [
        "5/3\n"
      ],
      "execution_count": 0,
      "outputs": [
        {
          "output_type": "execute_result",
          "data": {
            "text/plain": [
              "1.6666666666666667"
            ]
          },
          "metadata": {
            "tags": []
          },
          "execution_count": 25
        }
      ]
    },
    {
      "metadata": {
        "id": "tTUR5qGGnyPU",
        "colab_type": "code",
        "outputId": "c47bbdc9-ac1a-477d-ef80-17dc1717ab3e",
        "colab": {
          "base_uri": "https://localhost:8080/",
          "height": 34
        }
      },
      "cell_type": "code",
      "source": [
        "5%3"
      ],
      "execution_count": 0,
      "outputs": [
        {
          "output_type": "execute_result",
          "data": {
            "text/plain": [
              "2"
            ]
          },
          "metadata": {
            "tags": []
          },
          "execution_count": 29
        }
      ]
    },
    {
      "metadata": {
        "id": "67Jpg5ns0jPU",
        "colab_type": "code",
        "outputId": "3649b330-1007-4f9a-abaf-ae405614921b",
        "colab": {
          "base_uri": "https://localhost:8080/",
          "height": 34
        }
      },
      "cell_type": "code",
      "source": [
        "5.0/3"
      ],
      "execution_count": 0,
      "outputs": [
        {
          "output_type": "execute_result",
          "data": {
            "text/plain": [
              "1.6666666666666667"
            ]
          },
          "metadata": {
            "tags": []
          },
          "execution_count": 1
        }
      ]
    },
    {
      "metadata": {
        "id": "E5-WJu8g0sqi",
        "colab_type": "code",
        "outputId": "96730b3b-f94d-4c50-933d-37edbf00d619",
        "colab": {
          "base_uri": "https://localhost:8080/",
          "height": 34
        }
      },
      "cell_type": "code",
      "source": [
        "5.0/3.0"
      ],
      "execution_count": 0,
      "outputs": [
        {
          "output_type": "execute_result",
          "data": {
            "text/plain": [
              "1.6666666666666667"
            ]
          },
          "metadata": {
            "tags": []
          },
          "execution_count": 2
        }
      ]
    },
    {
      "metadata": {
        "id": "M121qqQH1WMa",
        "colab_type": "code",
        "outputId": "ff7965ae-9cb2-4d33-9bab-b7e0cde407cd",
        "colab": {
          "base_uri": "https://localhost:8080/",
          "height": 34
        }
      },
      "cell_type": "code",
      "source": [
        "5/3.0\n"
      ],
      "execution_count": 0,
      "outputs": [
        {
          "output_type": "execute_result",
          "data": {
            "text/plain": [
              "1.6666666666666667"
            ]
          },
          "metadata": {
            "tags": []
          },
          "execution_count": 3
        }
      ]
    },
    {
      "metadata": {
        "id": "nXWasaWR1hSY",
        "colab_type": "code",
        "outputId": "0363473f-9054-44b4-ce23-a429345d8296",
        "colab": {
          "base_uri": "https://localhost:8080/",
          "height": 34
        }
      },
      "cell_type": "code",
      "source": [
        "5.2%3"
      ],
      "execution_count": 0,
      "outputs": [
        {
          "output_type": "execute_result",
          "data": {
            "text/plain": [
              "2.2"
            ]
          },
          "metadata": {
            "tags": []
          },
          "execution_count": 4
        }
      ]
    },
    {
      "metadata": {
        "id": "O1yoDuOq2dwt",
        "colab_type": "code",
        "outputId": "75446483-4a00-423b-ded1-0ba6a8aa8210",
        "colab": {
          "base_uri": "https://localhost:8080/",
          "height": 163
        }
      },
      "cell_type": "code",
      "source": [
        "2000.3**200"
      ],
      "execution_count": 0,
      "outputs": [
        {
          "output_type": "error",
          "ename": "OverflowError",
          "evalue": "ignored",
          "traceback": [
            "\u001b[0;31m---------------------------------------------------------------------------\u001b[0m",
            "\u001b[0;31mOverflowError\u001b[0m                             Traceback (most recent call last)",
            "\u001b[0;32m<ipython-input-5-c94294570f03>\u001b[0m in \u001b[0;36m<module>\u001b[0;34m()\u001b[0m\n\u001b[0;32m----> 1\u001b[0;31m \u001b[0;36m2000.3\u001b[0m\u001b[0;34m**\u001b[0m\u001b[0;36m200\u001b[0m\u001b[0;34m\u001b[0m\u001b[0;34m\u001b[0m\u001b[0m\n\u001b[0m",
            "\u001b[0;31mOverflowError\u001b[0m: (34, 'Numerical result out of range')"
          ]
        }
      ]
    },
    {
      "metadata": {
        "id": "ZdtqbzDm6CJ9",
        "colab_type": "code",
        "outputId": "5183c323-eac3-47c9-8d5f-49df1960023a",
        "colab": {
          "base_uri": "https://localhost:8080/",
          "height": 34
        }
      },
      "cell_type": "code",
      "source": [
        "1.0+1.0-1.0"
      ],
      "execution_count": 0,
      "outputs": [
        {
          "output_type": "execute_result",
          "data": {
            "text/plain": [
              "1.0"
            ]
          },
          "metadata": {
            "tags": []
          },
          "execution_count": 6
        }
      ]
    },
    {
      "metadata": {
        "id": "LzO9szzE6hgT",
        "colab_type": "code",
        "outputId": "73c9b543-a628-4e6a-d44b-bf2352411b95",
        "colab": {
          "base_uri": "https://localhost:8080/",
          "height": 34
        }
      },
      "cell_type": "code",
      "source": [
        "1.0+1.0e20-1.0e20"
      ],
      "execution_count": 0,
      "outputs": [
        {
          "output_type": "execute_result",
          "data": {
            "text/plain": [
              "0.0"
            ]
          },
          "metadata": {
            "tags": []
          },
          "execution_count": 7
        }
      ]
    },
    {
      "metadata": {
        "id": "WHxXy2nI60o_",
        "colab_type": "code",
        "outputId": "d3f32c2f-69c9-4535-dc86-cf43bc7a6a23",
        "colab": {
          "base_uri": "https://localhost:8080/",
          "height": 34
        }
      },
      "cell_type": "code",
      "source": [
        "1.0e20-1.0e20"
      ],
      "execution_count": 0,
      "outputs": [
        {
          "output_type": "execute_result",
          "data": {
            "text/plain": [
              "0.0"
            ]
          },
          "metadata": {
            "tags": []
          },
          "execution_count": 8
        }
      ]
    },
    {
      "metadata": {
        "id": "BkfUc9Ib67LT",
        "colab_type": "code",
        "outputId": "a37bdc7b-6126-4104-a365-eae88c1e8b80",
        "colab": {
          "base_uri": "https://localhost:8080/",
          "height": 34
        }
      },
      "cell_type": "code",
      "source": [
        "1.0e20-1.0e20+1.0"
      ],
      "execution_count": 0,
      "outputs": [
        {
          "output_type": "execute_result",
          "data": {
            "text/plain": [
              "1.0"
            ]
          },
          "metadata": {
            "tags": []
          },
          "execution_count": 9
        }
      ]
    },
    {
      "metadata": {
        "id": "9HJ-Oj9Q7DZZ",
        "colab_type": "code",
        "outputId": "47e2a935-8242-45d5-d970-593e6d65a1e8",
        "colab": {
          "base_uri": "https://localhost:8080/",
          "height": 34
        }
      },
      "cell_type": "code",
      "source": [
        "1.0 + 1.0e20 - 1.0e20"
      ],
      "execution_count": 0,
      "outputs": [
        {
          "output_type": "execute_result",
          "data": {
            "text/plain": [
              "0.0"
            ]
          },
          "metadata": {
            "tags": []
          },
          "execution_count": 11
        }
      ]
    },
    {
      "metadata": {
        "id": "vqdwSJi6-vNm",
        "colab_type": "code",
        "outputId": "a862c635-4640-4c7e-c395-a1a52e0707de",
        "colab": {
          "base_uri": "https://localhost:8080/",
          "height": 34
        }
      },
      "cell_type": "code",
      "source": [
        "float(123)"
      ],
      "execution_count": 0,
      "outputs": [
        {
          "output_type": "execute_result",
          "data": {
            "text/plain": [
              "123.0"
            ]
          },
          "metadata": {
            "tags": []
          },
          "execution_count": 12
        }
      ]
    },
    {
      "metadata": {
        "id": "axE-UPep_EP1",
        "colab_type": "code",
        "outputId": "fae68b6e-a104-46cc-bce2-e3b38207322d",
        "colab": {
          "base_uri": "https://localhost:8080/",
          "height": 34
        }
      },
      "cell_type": "code",
      "source": [
        "float('123.23')"
      ],
      "execution_count": 0,
      "outputs": [
        {
          "output_type": "execute_result",
          "data": {
            "text/plain": [
              "123.23"
            ]
          },
          "metadata": {
            "tags": []
          },
          "execution_count": 14
        }
      ]
    },
    {
      "metadata": {
        "id": "oKahkZe4ATxf",
        "colab_type": "code",
        "outputId": "8c93a0a3-67e9-4777-925f-748cceccc05f",
        "colab": {
          "base_uri": "https://localhost:8080/",
          "height": 34
        }
      },
      "cell_type": "code",
      "source": [
        "int(float('123.23'))"
      ],
      "execution_count": 0,
      "outputs": [
        {
          "output_type": "execute_result",
          "data": {
            "text/plain": [
              "123"
            ]
          },
          "metadata": {
            "tags": []
          },
          "execution_count": 17
        }
      ]
    },
    {
      "metadata": {
        "id": "OOqj3ugXDOgI",
        "colab_type": "code",
        "outputId": "56f3ee63-0c71-4479-c46a-4e5cd8f0865b",
        "colab": {
          "base_uri": "https://localhost:8080/",
          "height": 34
        }
      },
      "cell_type": "code",
      "source": [
        "str(12.2)"
      ],
      "execution_count": 0,
      "outputs": [
        {
          "output_type": "execute_result",
          "data": {
            "text/plain": [
              "'12.2'"
            ]
          },
          "metadata": {
            "tags": []
          },
          "execution_count": 19
        }
      ]
    },
    {
      "metadata": {
        "id": "GQ3RsalxEUxB",
        "colab_type": "code",
        "outputId": "0d0779fc-417f-47f1-e362-513bdde0da36",
        "colab": {
          "base_uri": "https://localhost:8080/",
          "height": 34
        }
      },
      "cell_type": "code",
      "source": [
        "bool('a')"
      ],
      "execution_count": 0,
      "outputs": [
        {
          "output_type": "execute_result",
          "data": {
            "text/plain": [
              "True"
            ]
          },
          "metadata": {
            "tags": []
          },
          "execution_count": 25
        }
      ]
    },
    {
      "metadata": {
        "id": "HTbWYZ-ZFVUr",
        "colab_type": "code",
        "outputId": "adc86d3e-88f4-43c9-cea7-c7d2cc640fda",
        "colab": {
          "base_uri": "https://localhost:8080/",
          "height": 34
        }
      },
      "cell_type": "code",
      "source": [
        "bool(0)"
      ],
      "execution_count": 0,
      "outputs": [
        {
          "output_type": "execute_result",
          "data": {
            "text/plain": [
              "False"
            ]
          },
          "metadata": {
            "tags": []
          },
          "execution_count": 26
        }
      ]
    },
    {
      "metadata": {
        "id": "Fo-fCCzoFqpT",
        "colab_type": "code",
        "outputId": "45c00ed6-97b8-41b9-ba97-1f699bc60c14",
        "colab": {
          "base_uri": "https://localhost:8080/",
          "height": 34
        }
      },
      "cell_type": "code",
      "source": [
        "bool(0.1)"
      ],
      "execution_count": 0,
      "outputs": [
        {
          "output_type": "execute_result",
          "data": {
            "text/plain": [
              "True"
            ]
          },
          "metadata": {
            "tags": []
          },
          "execution_count": 27
        }
      ]
    },
    {
      "metadata": {
        "id": "CdfJl2e2HYBr",
        "colab_type": "code",
        "outputId": "ce59ba0a-e02f-4594-9e81-d1e62b7be8c0",
        "colab": {
          "base_uri": "https://localhost:8080/",
          "height": 34
        }
      },
      "cell_type": "code",
      "source": [
        "range(5)"
      ],
      "execution_count": 0,
      "outputs": [
        {
          "output_type": "execute_result",
          "data": {
            "text/plain": [
              "range(0, 5)"
            ]
          },
          "metadata": {
            "tags": []
          },
          "execution_count": 28
        }
      ]
    },
    {
      "metadata": {
        "id": "tYPjBia1J9fD",
        "colab_type": "code",
        "outputId": "9478354a-2e0a-4bbe-df48-575c703aeb84",
        "colab": {
          "base_uri": "https://localhost:8080/",
          "height": 34
        }
      },
      "cell_type": "code",
      "source": [
        "type(range(5))"
      ],
      "execution_count": 0,
      "outputs": [
        {
          "output_type": "execute_result",
          "data": {
            "text/plain": [
              "range"
            ]
          },
          "metadata": {
            "tags": []
          },
          "execution_count": 31
        }
      ]
    },
    {
      "metadata": {
        "id": "ZYHdLi8TLqSd",
        "colab_type": "code",
        "outputId": "8741de8a-f40b-4190-eba2-4436c2bb37f6",
        "colab": {
          "base_uri": "https://localhost:8080/",
          "height": 374
        }
      },
      "cell_type": "code",
      "source": [
        "num_found = 0\n",
        "x = 11\n",
        "found = []\n",
        "while num_found < 20:\n",
        "  if x % 5 == 0 and x%7==0 and x%11==0:\n",
        "    print(x)\n",
        "    found.append(x)\n",
        "    num_found += 1\n",
        "  x+=1\n",
        "\n",
        "print(found)\n",
        "    "
      ],
      "execution_count": 0,
      "outputs": [
        {
          "output_type": "stream",
          "text": [
            "385\n",
            "770\n",
            "1155\n",
            "1540\n",
            "1925\n",
            "2310\n",
            "2695\n",
            "3080\n",
            "3465\n",
            "3850\n",
            "4235\n",
            "4620\n",
            "5005\n",
            "5390\n",
            "5775\n",
            "6160\n",
            "6545\n",
            "6930\n",
            "7315\n",
            "7700\n",
            "[385, 770, 1155, 1540, 1925, 2310, 2695, 3080, 3465, 3850, 4235, 4620, 5005, 5390, 5775, 6160, 6545, 6930, 7315, 7700]\n"
          ],
          "name": "stdout"
        }
      ]
    },
    {
      "metadata": {
        "id": "X1cK1ym5T16P",
        "colab_type": "code",
        "colab": {}
      },
      "cell_type": "code",
      "source": [
        "\n",
        "def is_prime(n):\n",
        "  x=2\n",
        "  while x <= 9:\n",
        "    if n==1 or n==2 or n==3:\n",
        "      return True\n",
        "    if n%x == 0:\n",
        "      return False\n",
        "    x+=1\n",
        "  x = 2\n",
        "  return True"
      ],
      "execution_count": 0,
      "outputs": []
    },
    {
      "metadata": {
        "id": "dKE0EbnwWUw0",
        "colab_type": "code",
        "outputId": "856fcedc-4662-41cb-a2c4-756e451b9827",
        "colab": {
          "base_uri": "https://localhost:8080/",
          "height": 34
        }
      },
      "cell_type": "code",
      "source": [
        "is_prime(7)"
      ],
      "execution_count": 0,
      "outputs": [
        {
          "output_type": "execute_result",
          "data": {
            "text/plain": [
              "True"
            ]
          },
          "metadata": {
            "tags": []
          },
          "execution_count": 119
        }
      ]
    },
    {
      "metadata": {
        "id": "Mlrcljr8ZzCE",
        "colab_type": "code",
        "colab": {}
      },
      "cell_type": "code",
      "source": [
        "def is_prime(n):\n",
        "  x = 2\n",
        "  if n == 2 or n == 3 or n == 5 or n == 7:\n",
        "    return True\n",
        "  if n%6 == 1 or n%6 == 5:\n",
        "    while x <= 9:\n",
        "      if n%x == 0:\n",
        "        return False\n",
        "      x+=1\n",
        "    return True\n",
        "  else:\n",
        "    return False"
      ],
      "execution_count": 0,
      "outputs": []
    },
    {
      "metadata": {
        "id": "mHiQrROYbP6w",
        "colab_type": "code",
        "outputId": "5620d74a-cc9a-46a6-ff70-074f2e35d90e",
        "colab": {
          "base_uri": "https://localhost:8080/",
          "height": 34
        }
      },
      "cell_type": "code",
      "source": [
        "is_prime(17)"
      ],
      "execution_count": 0,
      "outputs": [
        {
          "output_type": "execute_result",
          "data": {
            "text/plain": [
              "True"
            ]
          },
          "metadata": {
            "tags": []
          },
          "execution_count": 125
        }
      ]
    },
    {
      "metadata": {
        "id": "jVVfAQT6eJ8b",
        "colab_type": "code",
        "colab": {}
      },
      "cell_type": "code",
      "source": [
        "def primesTo(x):\n",
        "  primes = []\n",
        "  for i in range(x):\n",
        "    a = is_prime(i)\n",
        "    if a == True:\n",
        "      primes.append(i)\n",
        "  return print(primes)"
      ],
      "execution_count": 0,
      "outputs": []
    },
    {
      "metadata": {
        "id": "SwMidHOPgCUC",
        "colab_type": "code",
        "outputId": "1d75a68e-b297-4eac-aaab-861e584cef98",
        "colab": {
          "base_uri": "https://localhost:8080/",
          "height": 34
        }
      },
      "cell_type": "code",
      "source": [
        "primesTo(110)"
      ],
      "execution_count": 0,
      "outputs": [
        {
          "output_type": "stream",
          "text": [
            "[1, 2, 3, 5, 7, 11, 13, 17, 19, 23, 29, 31, 37, 41, 43, 47, 53, 59, 61, 67, 71, 73, 79, 83, 89, 97, 101, 103, 107, 109]\n"
          ],
          "name": "stdout"
        }
      ]
    },
    {
      "metadata": {
        "id": "iArDF_aqioWL",
        "colab_type": "code",
        "colab": {}
      },
      "cell_type": "code",
      "source": [
        "def first_x_primes(x):\n",
        "  prime_found = 0\n",
        "  found = []\n",
        "  n = 1\n",
        "  while prime_found < x:\n",
        "    a = is_prime(n)\n",
        "    if a == True:\n",
        "      found.append(n)\n",
        "      prime_found += 1\n",
        "    n += 1\n",
        "  return print(found)"
      ],
      "execution_count": 0,
      "outputs": []
    },
    {
      "metadata": {
        "id": "EXQ4xqlclz6g",
        "colab_type": "code",
        "outputId": "9c00d307-624f-4fab-f8a5-68ba74fab168",
        "colab": {
          "base_uri": "https://localhost:8080/",
          "height": 34
        }
      },
      "cell_type": "code",
      "source": [
        "first_x_primes(30)"
      ],
      "execution_count": 0,
      "outputs": [
        {
          "output_type": "stream",
          "text": [
            "[1, 2, 3, 5, 7, 11, 13, 17, 19, 23, 29, 31, 37, 41, 43, 47, 53, 59, 61, 67, 71, 73, 79, 83, 89, 97, 101, 103, 107, 109]\n"
          ],
          "name": "stdout"
        }
      ]
    },
    {
      "metadata": {
        "id": "hsZMetoG9T7V",
        "colab_type": "code",
        "outputId": "7c86c51a-515d-4ca8-bb5c-7cfcf850a30d",
        "colab": {
          "base_uri": "https://localhost:8080/",
          "height": 102
        }
      },
      "cell_type": "code",
      "source": [
        "a = [1,2,3,4,5]\n",
        "\n",
        "def printList(l):\n",
        "  for i in range(len(l)):\n",
        "    print(l[i])\n",
        "    \n",
        "printList(a)"
      ],
      "execution_count": 0,
      "outputs": [
        {
          "output_type": "stream",
          "text": [
            "1\n",
            "2\n",
            "3\n",
            "4\n",
            "5\n"
          ],
          "name": "stdout"
        }
      ]
    },
    {
      "metadata": {
        "id": "LM6MQZgS-nCV",
        "colab_type": "code",
        "outputId": "c8c8322b-2f5b-4332-b920-d6d0cfe734a2",
        "colab": {
          "base_uri": "https://localhost:8080/",
          "height": 102
        }
      },
      "cell_type": "code",
      "source": [
        "def reverseList(l):\n",
        "  n = len(l) - 1\n",
        "  for i in range(len(l)):\n",
        "    print(l[n])\n",
        "    n -= 1\n",
        "\n",
        "reverseList(a)"
      ],
      "execution_count": 0,
      "outputs": [
        {
          "output_type": "stream",
          "text": [
            "5\n",
            "4\n",
            "3\n",
            "2\n",
            "1\n"
          ],
          "name": "stdout"
        }
      ]
    },
    {
      "metadata": {
        "id": "dRJYazNcBH0q",
        "colab_type": "code",
        "outputId": "50e1ff11-bdcc-4577-99db-ef0d4d692369",
        "colab": {
          "base_uri": "https://localhost:8080/",
          "height": 34
        }
      },
      "cell_type": "code",
      "source": [
        "def length(l):\n",
        "  count = 0\n",
        "  for i in l:\n",
        "    count += 1\n",
        "  return count\n",
        "\n",
        "print(length(a))"
      ],
      "execution_count": 0,
      "outputs": [
        {
          "output_type": "stream",
          "text": [
            "5\n"
          ],
          "name": "stdout"
        }
      ]
    },
    {
      "metadata": {
        "id": "jsC0wR4kIaQ7",
        "colab_type": "code",
        "outputId": "42c8ee7a-66f3-4d83-d1a5-6cc1729cb1e8",
        "colab": {
          "base_uri": "https://localhost:8080/",
          "height": 85
        }
      },
      "cell_type": "code",
      "source": [
        "b = a\n",
        "\n",
        "b[1] = 10\n",
        "\n",
        "print(a)\n",
        "print(b)\n",
        "\n",
        "c = a[:]\n",
        "c[2] = 20\n",
        "\n",
        "print(a)\n",
        "print(c)"
      ],
      "execution_count": 0,
      "outputs": [
        {
          "output_type": "stream",
          "text": [
            "[1, 10, 3, 4, 5]\n",
            "[1, 10, 3, 4, 5]\n",
            "[1, 10, 3, 4, 5]\n",
            "[1, 10, 20, 4, 5]\n"
          ],
          "name": "stdout"
        }
      ]
    },
    {
      "metadata": {
        "id": "yODkmwkRLRa1",
        "colab_type": "code",
        "outputId": "a2f75ef3-11bc-4f33-975e-6985d2f3757e",
        "colab": {
          "base_uri": "https://localhost:8080/",
          "height": 34
        }
      },
      "cell_type": "code",
      "source": [
        "def set_first_elem_to_zero(l):\n",
        "  l[0] = 0\n",
        "  return l\n",
        "\n",
        "set_first_elem_to_zero(a)"
      ],
      "execution_count": 0,
      "outputs": [
        {
          "output_type": "execute_result",
          "data": {
            "text/plain": [
              "[0, 10, 3, 4, 5]"
            ]
          },
          "metadata": {
            "tags": []
          },
          "execution_count": 28
        }
      ]
    },
    {
      "metadata": {
        "id": "T9FkLZEqPCzl",
        "colab_type": "code",
        "outputId": "97e334ee-bf8c-4f5e-857d-68b517268445",
        "colab": {
          "base_uri": "https://localhost:8080/",
          "height": 51
        }
      },
      "cell_type": "code",
      "source": [
        "n = [[1,2],[3,4],[5,6]]\n",
        "\n",
        "def list_of_list_to_list(l):\n",
        "  temp1 = []\n",
        "  temp2 = []\n",
        "  for i in range(len(l)):\n",
        "    temp1 = l[i]\n",
        "    for i in range(len(temp1)):\n",
        "      temp2.append(temp1[i])\n",
        "  return temp2\n",
        "\n",
        "print(list_of_list_to_list(n))\n",
        "print(n)"
      ],
      "execution_count": 0,
      "outputs": [
        {
          "output_type": "stream",
          "text": [
            "[1, 2, 3, 4, 5, 6]\n",
            "[[1, 2], [3, 4], [5, 6]]\n"
          ],
          "name": "stdout"
        }
      ]
    },
    {
      "metadata": {
        "id": "uDun6Y3tVy_J",
        "colab_type": "code",
        "outputId": "c6fe2f10-a325-4c44-bdf2-9a0a7e98da1c",
        "colab": {
          "base_uri": "https://localhost:8080/",
          "height": 410
        }
      },
      "cell_type": "code",
      "source": [
        "import matplotlib.pyplot as plt\n",
        "import math\n",
        "\n",
        "x = []\n",
        "y = []\n",
        "for i in range(3):\n",
        "  x.append(i)\n",
        "  a = math.pow(math.sin(i-2),2)*math.pow(math.e,-math.pow(i,2))\n",
        "  y.append(a)\n",
        "plt.plot(x,y,color = 'blue', linewidth=3)\n",
        "plt.title('f(x) = sin^2(x-2)e^(-x^2)')\n",
        "plt.xlabel('Inputs')\n",
        "plt.ylabel('Outputs')\n",
        "plt.show()\n",
        "print(x)\n",
        "print(y)"
      ],
      "execution_count": 0,
      "outputs": [
        {
          "output_type": "display_data",
          "data": {
            "image/png": "[encoded data removed]",
            "text/plain": [
              "<matplotlib.figure.Figure at 0x7f9cac9548d0>"
            ]
          },
          "metadata": {
            "tags": []
          }
        },
        {
          "output_type": "stream",
          "text": [
            "[0, 1, 2]\n",
            "[0.826821810431806, 0.2604856534228343, 0.0]\n"
          ],
          "name": "stdout"
        }
      ]
    },
    {
      "metadata": {
        "id": "JlMO5x1lYb2G",
        "colab_type": "code",
        "outputId": "1ed42f59-bbe4-4681-b884-c5d822bbde58",
        "colab": {
          "base_uri": "https://localhost:8080/",
          "height": 34
        }
      },
      "cell_type": "code",
      "source": [
        "a = [1,2,3,4,5]\n",
        "\n",
        "def product_of_list(l):\n",
        "  x = 1\n",
        "  for i in range(len(l)):\n",
        "    x = x * l[i] \n",
        "  return x\n",
        "\n",
        "product_of_list(a)"
      ],
      "execution_count": 0,
      "outputs": [
        {
          "output_type": "execute_result",
          "data": {
            "text/plain": [
              "120"
            ]
          },
          "metadata": {
            "tags": []
          },
          "execution_count": 37
        }
      ]
    },
    {
      "metadata": {
        "id": "clw6Grpbb2Us",
        "colab_type": "code",
        "outputId": "57bb235b-6e90-4562-fe9b-f8ca64520347",
        "colab": {
          "base_uri": "https://localhost:8080/",
          "height": 34
        }
      },
      "cell_type": "code",
      "source": [
        "b = [1,2,3,4,5]\n",
        "\n",
        "def product_of_list(l):\n",
        "  if l == []:\n",
        "    return 1\n",
        "  else:\n",
        "    x = l.pop()*product_of_list(l)\n",
        "  return x\n",
        "\n",
        "product_of_list(b)"
      ],
      "execution_count": 0,
      "outputs": [
        {
          "output_type": "execute_result",
          "data": {
            "text/plain": [
              "120"
            ]
          },
          "metadata": {
            "tags": []
          },
          "execution_count": 46
        }
      ]
    },
    {
      "metadata": {
        "id": "FW-puUa54ZKN",
        "colab_type": "code",
        "colab": {}
      },
      "cell_type": "code",
      "source": [
        "def fib(n):\n",
        "  sum = 0\n",
        "  if n == 0:\n",
        "    return 0\n",
        "  if n == 1:\n",
        "    return 1\n",
        "  else:\n",
        "    sum = fib(n-1) + fib(n-2)\n",
        "    return sum"
      ],
      "execution_count": 0,
      "outputs": []
    },
    {
      "metadata": {
        "id": "RvL67cxT5fKs",
        "colab_type": "code",
        "outputId": "7afee5c2-99f1-4029-8797-19e7368b4b8e",
        "colab": {
          "base_uri": "https://localhost:8080/",
          "height": 34
        }
      },
      "cell_type": "code",
      "source": [
        "fib(14)"
      ],
      "execution_count": 0,
      "outputs": [
        {
          "output_type": "execute_result",
          "data": {
            "text/plain": [
              "377"
            ]
          },
          "metadata": {
            "tags": []
          },
          "execution_count": 13
        }
      ]
    },
    {
      "metadata": {
        "id": "CIiCWzdMpicZ",
        "colab_type": "code",
        "colab": {}
      },
      "cell_type": "code",
      "source": [
        "import re\n",
        "\n",
        "file = open(r'C:\\Users\\JustinsLT\\Documents\\emails.txt', 'r')\n",
        "\n",
        "a = file.readlines()\n",
        "e = re.compile('([a-zA-Z0-9_\\-\\.]+)@((\\[[0-9]{1,3}\\.[0-9]{1,3}\\.[0-9]{1,3}\\.)|(([a-zA-Z0-9\\-]+\\.)+))([a-zA-Z]{2,4}|[0-9]{1,3})(\\]?)')\n",
        "\n",
        "for i in range(len(a)):\n",
        "  x = a[i]\n",
        "  print(e.search(x))"
      ],
      "execution_count": 0,
      "outputs": []
    },
    {
      "metadata": {
        "id": "crCtVRHepkKS",
        "colab_type": "text"
      },
      "cell_type": "markdown",
      "source": [
        "The previous code executes in the terminal, but not in the collaboratory notebook because it is an online interpreter and cannot find the file.\n",
        "\n",
        "It has been tested and works in the terminal form of Python interpreter."
      ]
    }
  ]
}